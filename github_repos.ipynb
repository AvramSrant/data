{
  "nbformat": 4,
  "nbformat_minor": 0,
  "metadata": {
    "colab": {
      "name": "github_repos.ipynb",
      "version": "0.3.2",
      "provenance": [],
      "collapsed_sections": [],
      "include_colab_link": true
    },
    "kernelspec": {
      "name": "python3",
      "display_name": "Python 3"
    }
  },
  "cells": [
    {
      "cell_type": "markdown",
      "metadata": {
        "id": "view-in-github",
        "colab_type": "text"
      },
      "source": [
        "<a href=\"https://colab.research.google.com/github/KCristopher/data/blob/master/github_repos.ipynb\" target=\"_parent\"><img src=\"https://colab.research.google.com/assets/colab-badge.svg\" alt=\"Open In Colab\"/></a>"
      ]
    },
    {
      "cell_type": "code",
      "metadata": {
        "id": "FAMXkaNXHT2X",
        "colab_type": "code",
        "colab": {}
      },
      "source": [
        "import pandas as pd\n",
        "import seaborn as sns\n",
        "import matplotlib.pyplot as plt"
      ],
      "execution_count": 0,
      "outputs": []
    },
    {
      "cell_type": "markdown",
      "metadata": {
        "id": "7i9NHd0-I5v3",
        "colab_type": "text"
      },
      "source": [
        "# Who were the authors of pieces of code which were committed  most often ?"
      ]
    },
    {
      "cell_type": "code",
      "metadata": {
        "id": "-ImJsKN1Hcgf",
        "colab_type": "code",
        "colab": {}
      },
      "source": [
        "query1='''\n",
        "SELECT author.name, author.email, COUNT(commit) AS number_of_commits\n",
        "FROM `bigquery-public-data.github_repos.commits`\n",
        "GROUP BY author.name, author.email\n",
        "ORDER BY RAND()\n",
        "LIMIT 3000;\n",
        "'''"
      ],
      "execution_count": 0,
      "outputs": []
    },
    {
      "cell_type": "code",
      "metadata": {
        "id": "H6p9Qt4YHvpp",
        "colab_type": "code",
        "outputId": "8ac05193-bb8a-4a55-ea3d-75d3794764b5",
        "colab": {
          "base_uri": "https://localhost:8080/",
          "height": 71
        }
      },
      "source": [
        "# jednorazowo będzie potrzebne podanie kodu weryfikacyjnego\n",
        "df = pd.read_gbq(query = query1, project_id = 'task3githubrepos', dialect = 'standard')"
      ],
      "execution_count": 0,
      "outputs": [
        {
          "output_type": "stream",
          "text": [
            "Please visit this URL to authorize this application: https://accounts.google.com/o/oauth2/auth?response_type=code&client_id=495642085510-k0tmvj2m941jhre2nbqka17vqpjfddtd.apps.googleusercontent.com&redirect_uri=urn%3Aietf%3Awg%3Aoauth%3A2.0%3Aoob&scope=https%3A%2F%2Fwww.googleapis.com%2Fauth%2Fbigquery&state=9PbcyeEtLeDFXJglg0Z73E8vzG1p0s&prompt=consent&access_type=offline\n",
            "Enter the authorization code: 4/WQHSdTYUo_ZjqVD2757hZa85FBP9LBiR1BGtP25Z3rIGrLu-6pPSOHc\n"
          ],
          "name": "stdout"
        }
      ]
    },
    {
      "cell_type": "code",
      "metadata": {
        "id": "Wg6mN3SaImAg",
        "colab_type": "code",
        "outputId": "95cae6a1-004d-467c-c21b-d3aee452032d",
        "colab": {
          "base_uri": "https://localhost:8080/",
          "height": 204
        }
      },
      "source": [
        "df.head()"
      ],
      "execution_count": 0,
      "outputs": [
        {
          "output_type": "execute_result",
          "data": {
            "text/html": [
              "<div>\n",
              "<style scoped>\n",
              "    .dataframe tbody tr th:only-of-type {\n",
              "        vertical-align: middle;\n",
              "    }\n",
              "\n",
              "    .dataframe tbody tr th {\n",
              "        vertical-align: top;\n",
              "    }\n",
              "\n",
              "    .dataframe thead th {\n",
              "        text-align: right;\n",
              "    }\n",
              "</style>\n",
              "<table border=\"1\" class=\"dataframe\">\n",
              "  <thead>\n",
              "    <tr style=\"text-align: right;\">\n",
              "      <th></th>\n",
              "      <th>name</th>\n",
              "      <th>email</th>\n",
              "      <th>number_of_commits</th>\n",
              "    </tr>\n",
              "  </thead>\n",
              "  <tbody>\n",
              "    <tr>\n",
              "      <th>0</th>\n",
              "      <td>René Hertell</td>\n",
              "      <td>2f32c666957b8334943223a91e902a13fc6ab758@herte...</td>\n",
              "      <td>5</td>\n",
              "    </tr>\n",
              "    <tr>\n",
              "      <th>1</th>\n",
              "      <td>Georgiy Frolov</td>\n",
              "      <td>8fe93ff7148f1908a4496f77320c3311819cbe21@users...</td>\n",
              "      <td>30</td>\n",
              "    </tr>\n",
              "    <tr>\n",
              "      <th>2</th>\n",
              "      <td>Foyez Ahamed</td>\n",
              "      <td>fd79cbe0d3f576e11d89756f8079884414b46f7d@gmail...</td>\n",
              "      <td>4</td>\n",
              "    </tr>\n",
              "    <tr>\n",
              "      <th>3</th>\n",
              "      <td>Jenkins Automation Server</td>\n",
              "      <td>d95b56ce41a2e1ac4cecdd398defd7414407cc08@ip-17...</td>\n",
              "      <td>111</td>\n",
              "    </tr>\n",
              "    <tr>\n",
              "      <th>4</th>\n",
              "      <td>Shane S Bruggeman</td>\n",
              "      <td>f47eb60f5a45b4e609de64c78bfbccd8db15fe25@rose-...</td>\n",
              "      <td>6</td>\n",
              "    </tr>\n",
              "  </tbody>\n",
              "</table>\n",
              "</div>"
            ],
            "text/plain": [
              "                        name  ... number_of_commits\n",
              "0               René Hertell  ...                 5\n",
              "1             Georgiy Frolov  ...                30\n",
              "2               Foyez Ahamed  ...                 4\n",
              "3  Jenkins Automation Server  ...               111\n",
              "4          Shane S Bruggeman  ...                 6\n",
              "\n",
              "[5 rows x 3 columns]"
            ]
          },
          "metadata": {
            "tags": []
          },
          "execution_count": 4
        }
      ]
    },
    {
      "cell_type": "code",
      "metadata": {
        "id": "GQOrg88xIxtQ",
        "colab_type": "code",
        "outputId": "cb84e965-0772-40e7-d1e3-73390aaa30ff",
        "colab": {
          "base_uri": "https://localhost:8080/",
          "height": 561
        }
      },
      "source": [
        "df.groupby('name')['number_of_commits'].sum().sort_values(ascending=False).head(30)"
      ],
      "execution_count": 0,
      "outputs": [
        {
          "output_type": "execute_result",
          "data": {
            "text/plain": [
              "name\n",
              "hanwen                4277\n",
              "Vikhyat Korrapati     4054\n",
              "esj                   3941\n",
              "Andy Lyall            2814\n",
              "Ray Nicholus          2126\n",
              "Rafael Ramos          2123\n",
              "httpdigest            2099\n",
              "Richard Membarth      2056\n",
              "Nicolae Mihalache     1922\n",
              "torangan              1354\n",
              "aymanhab              1330\n",
              "Tobias Oberstein      1166\n",
              "Tobias Bocanegra      1128\n",
              "Stephen Touset        1083\n",
              "DaanVanYperen         1064\n",
              "William Lachance       991\n",
              "Steve Kenworthy        974\n",
              "David Aerne            971\n",
              "Michiel Meeuwissen     965\n",
              "Bobi                   955\n",
              "Sebastian Urban        948\n",
              "Stephen Aylward        907\n",
              "Giovanni Maggini       892\n",
              "gleclaire              838\n",
              "Björn Albers           836\n",
              "Pierre Amaudruz        825\n",
              "Thran                  816\n",
              "limor-gs               799\n",
              "Paul Beeler            726\n",
              "SunTzu                 711\n",
              "Name: number_of_commits, dtype: int64"
            ]
          },
          "metadata": {
            "tags": []
          },
          "execution_count": 8
        }
      ]
    },
    {
      "cell_type": "markdown",
      "metadata": {
        "id": "Yu49uDKyMOkb",
        "colab_type": "text"
      },
      "source": [
        "# What are the most visited repositories ?"
      ]
    },
    {
      "cell_type": "code",
      "metadata": {
        "id": "LeLSAiNGMJTo",
        "colab_type": "code",
        "colab": {}
      },
      "source": [
        "query2='''\n",
        "SELECT repo_name,watch_count\n",
        "FROM `bigquery-public-data.github_repos.sample_repos`\n",
        "GROUP BY repo_name,watch_count\n",
        "ORDER BY watch_count DESC\n",
        "LIMIT 1000;\n",
        "'''"
      ],
      "execution_count": 0,
      "outputs": []
    },
    {
      "cell_type": "code",
      "metadata": {
        "id": "jYu8QG7pMkI3",
        "colab_type": "code",
        "colab": {}
      },
      "source": [
        "df2=pd.read_gbq(query = query2, project_id = 'task3githubrepos', dialect = 'standard')"
      ],
      "execution_count": 0,
      "outputs": []
    },
    {
      "cell_type": "code",
      "metadata": {
        "id": "J9DlTW4DMwJx",
        "colab_type": "code",
        "outputId": "050e34a0-eab3-46f5-e519-9e60d21ee8ec",
        "colab": {
          "base_uri": "https://localhost:8080/",
          "height": 204
        }
      },
      "source": [
        "df2.head()"
      ],
      "execution_count": 0,
      "outputs": [
        {
          "output_type": "execute_result",
          "data": {
            "text/html": [
              "<div>\n",
              "<style scoped>\n",
              "    .dataframe tbody tr th:only-of-type {\n",
              "        vertical-align: middle;\n",
              "    }\n",
              "\n",
              "    .dataframe tbody tr th {\n",
              "        vertical-align: top;\n",
              "    }\n",
              "\n",
              "    .dataframe thead th {\n",
              "        text-align: right;\n",
              "    }\n",
              "</style>\n",
              "<table border=\"1\" class=\"dataframe\">\n",
              "  <thead>\n",
              "    <tr style=\"text-align: right;\">\n",
              "      <th></th>\n",
              "      <th>repo_name</th>\n",
              "      <th>watch_count</th>\n",
              "    </tr>\n",
              "  </thead>\n",
              "  <tbody>\n",
              "    <tr>\n",
              "      <th>0</th>\n",
              "      <td>FreeCodeCamp/FreeCodeCamp</td>\n",
              "      <td>90457</td>\n",
              "    </tr>\n",
              "    <tr>\n",
              "      <th>1</th>\n",
              "      <td>firehol/netdata</td>\n",
              "      <td>13208</td>\n",
              "    </tr>\n",
              "    <tr>\n",
              "      <th>2</th>\n",
              "      <td>joshbuchea/HEAD</td>\n",
              "      <td>13125</td>\n",
              "    </tr>\n",
              "    <tr>\n",
              "      <th>3</th>\n",
              "      <td>braydie/HowToBeAProgrammer</td>\n",
              "      <td>12019</td>\n",
              "    </tr>\n",
              "    <tr>\n",
              "      <th>4</th>\n",
              "      <td>sindresorhus/awesome</td>\n",
              "      <td>11063</td>\n",
              "    </tr>\n",
              "  </tbody>\n",
              "</table>\n",
              "</div>"
            ],
            "text/plain": [
              "                    repo_name  watch_count\n",
              "0   FreeCodeCamp/FreeCodeCamp        90457\n",
              "1             firehol/netdata        13208\n",
              "2             joshbuchea/HEAD        13125\n",
              "3  braydie/HowToBeAProgrammer        12019\n",
              "4        sindresorhus/awesome        11063"
            ]
          },
          "metadata": {
            "tags": []
          },
          "execution_count": 13
        }
      ]
    },
    {
      "cell_type": "markdown",
      "metadata": {
        "id": "iIO8EaCpPnxZ",
        "colab_type": "text"
      },
      "source": [
        "# How many files are under each licence ?"
      ]
    },
    {
      "cell_type": "code",
      "metadata": {
        "id": "-f7-j79GPQWK",
        "colab_type": "code",
        "colab": {}
      },
      "source": [
        "query3=\n",
        "'''\n",
        "SELECT license,COUNT(*) AS number_of_files_on_that_licence\n",
        "FROM `bigquery-public-data.github_repos.files` AS f\n",
        "INNER JOIN `bigquery-public-data.github_repos.licenses` AS l\n",
        "ON f.repo_name=l.repo_name\n",
        "GROUP BY license;\n",
        "'''"
      ],
      "execution_count": 0,
      "outputs": []
    },
    {
      "cell_type": "markdown",
      "metadata": {
        "id": "COJfU0aWJ9N2",
        "colab_type": "text"
      },
      "source": [
        "# What kind of files gets uploaded to github ?"
      ]
    },
    {
      "cell_type": "code",
      "metadata": {
        "id": "72lI5ksYUuYf",
        "colab_type": "code",
        "colab": {}
      },
      "source": [
        "query4='''\n",
        "SELECT path\n",
        "FROM `bigquery-public-data.github_repos.sample_files` \n",
        "WHERE path LIKE '%ipynb'\n",
        "OR path LIKE '%py'\n",
        "OR path LIKE '%c'\n",
        "OR path LIKE '%class'\n",
        "OR path LIKE '%cpp'\n",
        "OR path LIKE '%cpp'\n",
        "OR path LIKE '%cs'\n",
        "OR path LIKE '%java'\n",
        "OR path LIKE '%sh'\n",
        "OR path LIKE '%swift'\n",
        "OR path LIKE '%vb'\n",
        "OR path LIKE '%java'\n",
        "OR path LIKE '%rtf'\n",
        "OR path LIKE '%txt'\n",
        "OR path LIKE '%pdf'\n",
        "OR path LIKE '%doc'\n",
        "OR path LIKE '%docx'\n",
        "OR path LIKE '%xls'\n",
        "OR path LIKE '%xlsx'\n",
        "OR path LIKE '%xlsm'\n",
        "ORDER BY RAND()\n",
        "LIMIT 10000;\n",
        "'''"
      ],
      "execution_count": 0,
      "outputs": []
    },
    {
      "cell_type": "code",
      "metadata": {
        "id": "2Sr5vmn7U1_2",
        "colab_type": "code",
        "colab": {}
      },
      "source": [
        "df4=pd.read_gbq(query = query4, project_id = 'task3githubrepos', dialect = 'standard')"
      ],
      "execution_count": 0,
      "outputs": []
    },
    {
      "cell_type": "code",
      "metadata": {
        "id": "-E6L9ur2VULY",
        "colab_type": "code",
        "outputId": "ede99a46-3fee-456b-b80d-ad4d65e5418e",
        "colab": {
          "base_uri": "https://localhost:8080/",
          "height": 204
        }
      },
      "source": [
        "df4.head()"
      ],
      "execution_count": 0,
      "outputs": [
        {
          "output_type": "execute_result",
          "data": {
            "text/html": [
              "<div>\n",
              "<style scoped>\n",
              "    .dataframe tbody tr th:only-of-type {\n",
              "        vertical-align: middle;\n",
              "    }\n",
              "\n",
              "    .dataframe tbody tr th {\n",
              "        vertical-align: top;\n",
              "    }\n",
              "\n",
              "    .dataframe thead th {\n",
              "        text-align: right;\n",
              "    }\n",
              "</style>\n",
              "<table border=\"1\" class=\"dataframe\">\n",
              "  <thead>\n",
              "    <tr style=\"text-align: right;\">\n",
              "      <th></th>\n",
              "      <th>path</th>\n",
              "    </tr>\n",
              "  </thead>\n",
              "  <tbody>\n",
              "    <tr>\n",
              "      <th>0</th>\n",
              "      <td>arch/arm/mach-spear3xx/spear300.c</td>\n",
              "    </tr>\n",
              "    <tr>\n",
              "      <th>1</th>\n",
              "      <td>src/main/java/org/chocosolver/solver/search/st...</td>\n",
              "    </tr>\n",
              "    <tr>\n",
              "      <th>2</th>\n",
              "      <td>Documentation/devicetree/bindings/gpio/cavium-...</td>\n",
              "    </tr>\n",
              "    <tr>\n",
              "      <th>3</th>\n",
              "      <td>rabbit-escape-engine/test/rabbitescape/engine/...</td>\n",
              "    </tr>\n",
              "    <tr>\n",
              "      <th>4</th>\n",
              "      <td>modules/adwords_appengine/src/main/java/com/go...</td>\n",
              "    </tr>\n",
              "  </tbody>\n",
              "</table>\n",
              "</div>"
            ],
            "text/plain": [
              "                                                path\n",
              "0                  arch/arm/mach-spear3xx/spear300.c\n",
              "1  src/main/java/org/chocosolver/solver/search/st...\n",
              "2  Documentation/devicetree/bindings/gpio/cavium-...\n",
              "3  rabbit-escape-engine/test/rabbitescape/engine/...\n",
              "4  modules/adwords_appengine/src/main/java/com/go..."
            ]
          },
          "metadata": {
            "tags": []
          },
          "execution_count": 22
        }
      ]
    },
    {
      "cell_type": "code",
      "metadata": {
        "id": "2jWhJ6aBXavb",
        "colab_type": "code",
        "outputId": "fb561cf8-b502-482f-f7a1-b1dc98a77746",
        "colab": {
          "base_uri": "https://localhost:8080/",
          "height": 316
        }
      },
      "source": [
        "file_extensions=[\".ipynb\",\n",
        "\".py\",\n",
        "\".c\",\n",
        "\".class\",\n",
        "\".cpp\",\n",
        "\".cs\",\n",
        "\".java\",\n",
        "\".sh\",\n",
        "\".swift\",\n",
        "\".vb\",\n",
        "\".rtf\",\n",
        "\".txt\",\n",
        "\".pdf\",\n",
        "\".doc\",\n",
        "\".docx\",\n",
        "\".xls\",\n",
        "\".xlsx\",\n",
        "\".xlsm\"]\n",
        "\n",
        "names=['Jupyter','Python file','C','Java','C++','C#','Java file','Shell script','Swift file','Visual Basic file','Word file','Text file','Pdf file','Word file',\n",
        "      'Word file','Excel file','Excel file','Excel file']\n",
        "\n",
        "def which_technology(series):\n",
        "  mapping={}\n",
        "  \n",
        "  for x in series.str.split():\n",
        "    for fe,n in zip(file_extensions,names):\n",
        "      if fe in ''.join(x):\n",
        "        mapping[x]=n\n",
        "      else:\n",
        "        mapping[x]=x\n",
        "        \n",
        "  \n",
        "  return mapping\n",
        "    \n",
        "  \n",
        "  \n",
        "which_technology(df4['technology'])   \n"
      ],
      "execution_count": 0,
      "outputs": [
        {
          "output_type": "error",
          "ename": "TypeError",
          "evalue": "ignored",
          "traceback": [
            "\u001b[0;31m---------------------------------------------------------------------------\u001b[0m",
            "\u001b[0;31mTypeError\u001b[0m                                 Traceback (most recent call last)",
            "\u001b[0;32m<ipython-input-54-2e1ae0cde556>\u001b[0m in \u001b[0;36m<module>\u001b[0;34m()\u001b[0m\n\u001b[1;32m     36\u001b[0m \u001b[0;34m\u001b[0m\u001b[0m\n\u001b[1;32m     37\u001b[0m \u001b[0;34m\u001b[0m\u001b[0m\n\u001b[0;32m---> 38\u001b[0;31m \u001b[0mwhich_technology\u001b[0m\u001b[0;34m(\u001b[0m\u001b[0mdf4\u001b[0m\u001b[0;34m[\u001b[0m\u001b[0;34m'technology'\u001b[0m\u001b[0;34m]\u001b[0m\u001b[0;34m)\u001b[0m\u001b[0;34m\u001b[0m\u001b[0;34m\u001b[0m\u001b[0m\n\u001b[0m",
            "\u001b[0;32m<ipython-input-54-2e1ae0cde556>\u001b[0m in \u001b[0;36mwhich_technology\u001b[0;34m(series)\u001b[0m\n\u001b[1;32m     29\u001b[0m         \u001b[0mmapping\u001b[0m\u001b[0;34m[\u001b[0m\u001b[0mx\u001b[0m\u001b[0;34m]\u001b[0m\u001b[0;34m=\u001b[0m\u001b[0mn\u001b[0m\u001b[0;34m\u001b[0m\u001b[0;34m\u001b[0m\u001b[0m\n\u001b[1;32m     30\u001b[0m       \u001b[0;32melse\u001b[0m\u001b[0;34m:\u001b[0m\u001b[0;34m\u001b[0m\u001b[0;34m\u001b[0m\u001b[0m\n\u001b[0;32m---> 31\u001b[0;31m         \u001b[0mmapping\u001b[0m\u001b[0;34m[\u001b[0m\u001b[0mx\u001b[0m\u001b[0;34m]\u001b[0m\u001b[0;34m=\u001b[0m\u001b[0mx\u001b[0m\u001b[0;34m\u001b[0m\u001b[0;34m\u001b[0m\u001b[0m\n\u001b[0m\u001b[1;32m     32\u001b[0m \u001b[0;34m\u001b[0m\u001b[0m\n\u001b[1;32m     33\u001b[0m \u001b[0;34m\u001b[0m\u001b[0m\n",
            "\u001b[0;31mTypeError\u001b[0m: unhashable type: 'list'"
          ]
        }
      ]
    },
    {
      "cell_type": "code",
      "metadata": {
        "id": "LAvOtmu-hHnH",
        "colab_type": "code",
        "colab": {}
      },
      "source": [
        "df4['technology']=df4['path'].apply(which_technology)"
      ],
      "execution_count": 0,
      "outputs": []
    },
    {
      "cell_type": "code",
      "metadata": {
        "id": "XczGs_ochfmv",
        "colab_type": "code",
        "outputId": "75bf40b2-2438-4001-d0f1-c69f4c3c512e",
        "colab": {
          "base_uri": "https://localhost:8080/",
          "height": 204
        }
      },
      "source": [
        "df4.head()"
      ],
      "execution_count": 0,
      "outputs": [
        {
          "output_type": "execute_result",
          "data": {
            "text/html": [
              "<div>\n",
              "<style scoped>\n",
              "    .dataframe tbody tr th:only-of-type {\n",
              "        vertical-align: middle;\n",
              "    }\n",
              "\n",
              "    .dataframe tbody tr th {\n",
              "        vertical-align: top;\n",
              "    }\n",
              "\n",
              "    .dataframe thead th {\n",
              "        text-align: right;\n",
              "    }\n",
              "</style>\n",
              "<table border=\"1\" class=\"dataframe\">\n",
              "  <thead>\n",
              "    <tr style=\"text-align: right;\">\n",
              "      <th></th>\n",
              "      <th>path</th>\n",
              "      <th>technology</th>\n",
              "    </tr>\n",
              "  </thead>\n",
              "  <tbody>\n",
              "    <tr>\n",
              "      <th>0</th>\n",
              "      <td>arch/arm/mach-spear3xx/spear300.c</td>\n",
              "      <td>arch/arm/mach-spear3xx/spear300.c</td>\n",
              "    </tr>\n",
              "    <tr>\n",
              "      <th>1</th>\n",
              "      <td>src/main/java/org/chocosolver/solver/search/st...</td>\n",
              "      <td>src/main/java/org/chocosolver/solver/search/st...</td>\n",
              "    </tr>\n",
              "    <tr>\n",
              "      <th>2</th>\n",
              "      <td>Documentation/devicetree/bindings/gpio/cavium-...</td>\n",
              "      <td>Documentation/devicetree/bindings/gpio/cavium-...</td>\n",
              "    </tr>\n",
              "    <tr>\n",
              "      <th>3</th>\n",
              "      <td>rabbit-escape-engine/test/rabbitescape/engine/...</td>\n",
              "      <td>rabbit-escape-engine/test/rabbitescape/engine/...</td>\n",
              "    </tr>\n",
              "    <tr>\n",
              "      <th>4</th>\n",
              "      <td>modules/adwords_appengine/src/main/java/com/go...</td>\n",
              "      <td>modules/adwords_appengine/src/main/java/com/go...</td>\n",
              "    </tr>\n",
              "  </tbody>\n",
              "</table>\n",
              "</div>"
            ],
            "text/plain": [
              "                                                path                                         technology\n",
              "0                  arch/arm/mach-spear3xx/spear300.c                  arch/arm/mach-spear3xx/spear300.c\n",
              "1  src/main/java/org/chocosolver/solver/search/st...  src/main/java/org/chocosolver/solver/search/st...\n",
              "2  Documentation/devicetree/bindings/gpio/cavium-...  Documentation/devicetree/bindings/gpio/cavium-...\n",
              "3  rabbit-escape-engine/test/rabbitescape/engine/...  rabbit-escape-engine/test/rabbitescape/engine/...\n",
              "4  modules/adwords_appengine/src/main/java/com/go...  modules/adwords_appengine/src/main/java/com/go..."
            ]
          },
          "metadata": {
            "tags": []
          },
          "execution_count": 48
        }
      ]
    },
    {
      "cell_type": "code",
      "metadata": {
        "id": "mErt2Qhpdhm0",
        "colab_type": "code",
        "outputId": "6474c788-cd3b-44ba-c469-2f39267117b8",
        "colab": {
          "base_uri": "https://localhost:8080/",
          "height": 374
        }
      },
      "source": [
        "def which_technology(extension,technology):\n",
        "  df4['technology']=df4['path'].str.split().apply(lambda x:technology if extension in ''.join(x) else x)\n",
        "  return df4['technology']\n"
      ],
      "execution_count": 0,
      "outputs": [
        {
          "output_type": "error",
          "ename": "TypeError",
          "evalue": "ignored",
          "traceback": [
            "\u001b[0;31m---------------------------------------------------------------------------\u001b[0m",
            "\u001b[0;31mTypeError\u001b[0m                                 Traceback (most recent call last)",
            "\u001b[0;32m<ipython-input-44-ce867305409a>\u001b[0m in \u001b[0;36m<module>\u001b[0;34m()\u001b[0m\n\u001b[1;32m      8\u001b[0m   \u001b[0;32mreturn\u001b[0m \u001b[0mdf4\u001b[0m\u001b[0;34m[\u001b[0m\u001b[0;34m'technology'\u001b[0m\u001b[0;34m]\u001b[0m\u001b[0;34m\u001b[0m\u001b[0;34m\u001b[0m\u001b[0m\n\u001b[1;32m      9\u001b[0m \u001b[0;34m\u001b[0m\u001b[0m\n\u001b[0;32m---> 10\u001b[0;31m \u001b[0mall_technologies\u001b[0m\u001b[0;34m(\u001b[0m\u001b[0;34m)\u001b[0m\u001b[0;34m\u001b[0m\u001b[0;34m\u001b[0m\u001b[0m\n\u001b[0m",
            "\u001b[0;32m<ipython-input-44-ce867305409a>\u001b[0m in \u001b[0;36mall_technologies\u001b[0;34m()\u001b[0m\n\u001b[1;32m      5\u001b[0m \u001b[0;32mdef\u001b[0m \u001b[0mall_technologies\u001b[0m\u001b[0;34m(\u001b[0m\u001b[0;34m)\u001b[0m\u001b[0;34m:\u001b[0m\u001b[0;34m\u001b[0m\u001b[0;34m\u001b[0m\u001b[0m\n\u001b[1;32m      6\u001b[0m   \u001b[0;32mfor\u001b[0m \u001b[0mfe\u001b[0m\u001b[0;34m,\u001b[0m\u001b[0mn\u001b[0m \u001b[0;32min\u001b[0m \u001b[0mzip\u001b[0m\u001b[0;34m(\u001b[0m\u001b[0mfile_extensions\u001b[0m\u001b[0;34m,\u001b[0m\u001b[0mnames\u001b[0m\u001b[0;34m)\u001b[0m\u001b[0;34m:\u001b[0m\u001b[0;34m\u001b[0m\u001b[0;34m\u001b[0m\u001b[0m\n\u001b[0;32m----> 7\u001b[0;31m     \u001b[0mdf4\u001b[0m\u001b[0;34m[\u001b[0m\u001b[0;34m'technology'\u001b[0m\u001b[0;34m]\u001b[0m\u001b[0;34m.\u001b[0m\u001b[0mapply\u001b[0m\u001b[0;34m(\u001b[0m\u001b[0mwhich_technology\u001b[0m\u001b[0;34m(\u001b[0m\u001b[0mfe\u001b[0m\u001b[0;34m,\u001b[0m\u001b[0mn\u001b[0m\u001b[0;34m)\u001b[0m\u001b[0;34m)\u001b[0m\u001b[0;34m\u001b[0m\u001b[0;34m\u001b[0m\u001b[0m\n\u001b[0m\u001b[1;32m      8\u001b[0m   \u001b[0;32mreturn\u001b[0m \u001b[0mdf4\u001b[0m\u001b[0;34m[\u001b[0m\u001b[0;34m'technology'\u001b[0m\u001b[0;34m]\u001b[0m\u001b[0;34m\u001b[0m\u001b[0;34m\u001b[0m\u001b[0m\n\u001b[1;32m      9\u001b[0m \u001b[0;34m\u001b[0m\u001b[0m\n",
            "\u001b[0;32m/usr/local/lib/python3.6/dist-packages/pandas/core/series.py\u001b[0m in \u001b[0;36mapply\u001b[0;34m(self, func, convert_dtype, args, **kwds)\u001b[0m\n\u001b[1;32m   3589\u001b[0m             \u001b[0;32melse\u001b[0m\u001b[0;34m:\u001b[0m\u001b[0;34m\u001b[0m\u001b[0;34m\u001b[0m\u001b[0m\n\u001b[1;32m   3590\u001b[0m                 \u001b[0mvalues\u001b[0m \u001b[0;34m=\u001b[0m \u001b[0mself\u001b[0m\u001b[0;34m.\u001b[0m\u001b[0mastype\u001b[0m\u001b[0;34m(\u001b[0m\u001b[0mobject\u001b[0m\u001b[0;34m)\u001b[0m\u001b[0;34m.\u001b[0m\u001b[0mvalues\u001b[0m\u001b[0;34m\u001b[0m\u001b[0;34m\u001b[0m\u001b[0m\n\u001b[0;32m-> 3591\u001b[0;31m                 \u001b[0mmapped\u001b[0m \u001b[0;34m=\u001b[0m \u001b[0mlib\u001b[0m\u001b[0;34m.\u001b[0m\u001b[0mmap_infer\u001b[0m\u001b[0;34m(\u001b[0m\u001b[0mvalues\u001b[0m\u001b[0;34m,\u001b[0m \u001b[0mf\u001b[0m\u001b[0;34m,\u001b[0m \u001b[0mconvert\u001b[0m\u001b[0;34m=\u001b[0m\u001b[0mconvert_dtype\u001b[0m\u001b[0;34m)\u001b[0m\u001b[0;34m\u001b[0m\u001b[0;34m\u001b[0m\u001b[0m\n\u001b[0m\u001b[1;32m   3592\u001b[0m \u001b[0;34m\u001b[0m\u001b[0m\n\u001b[1;32m   3593\u001b[0m         \u001b[0;32mif\u001b[0m \u001b[0mlen\u001b[0m\u001b[0;34m(\u001b[0m\u001b[0mmapped\u001b[0m\u001b[0;34m)\u001b[0m \u001b[0;32mand\u001b[0m \u001b[0misinstance\u001b[0m\u001b[0;34m(\u001b[0m\u001b[0mmapped\u001b[0m\u001b[0;34m[\u001b[0m\u001b[0;36m0\u001b[0m\u001b[0;34m]\u001b[0m\u001b[0;34m,\u001b[0m \u001b[0mSeries\u001b[0m\u001b[0;34m)\u001b[0m\u001b[0;34m:\u001b[0m\u001b[0;34m\u001b[0m\u001b[0;34m\u001b[0m\u001b[0m\n",
            "\u001b[0;32mpandas/_libs/lib.pyx\u001b[0m in \u001b[0;36mpandas._libs.lib.map_infer\u001b[0;34m()\u001b[0m\n",
            "\u001b[0;31mTypeError\u001b[0m: 'Series' object is not callable"
          ]
        }
      ]
    },
    {
      "cell_type": "code",
      "metadata": {
        "id": "wDGrbXxfVbuu",
        "colab_type": "code",
        "colab": {}
      },
      "source": [
        "df4['technology']=df4['path'].str.split().apply(lambda x:\"Jupyter\" if \"ipynb\" in ''.join(x) else x)"
      ],
      "execution_count": 0,
      "outputs": []
    },
    {
      "cell_type": "code",
      "metadata": {
        "id": "x_6sj1YUaolm",
        "colab_type": "code",
        "outputId": "cf87bf27-6a6d-4df9-f264-8be6714c86e0",
        "colab": {
          "base_uri": "https://localhost:8080/",
          "height": 85
        }
      },
      "source": [
        "for t in df4.technology:\n",
        "  if t=='Jupyter':\n",
        "    print(t)"
      ],
      "execution_count": 0,
      "outputs": [
        {
          "output_type": "stream",
          "text": [
            "Jupyter\n",
            "Jupyter\n",
            "Jupyter\n",
            "Jupyter\n"
          ],
          "name": "stdout"
        }
      ]
    }
  ]
}